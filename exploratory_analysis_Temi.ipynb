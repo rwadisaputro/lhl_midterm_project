{
 "cells": [
  {
   "cell_type": "markdown",
   "metadata": {},
   "source": [
    "### Temi Note"
   ]
  },
  {
   "cell_type": "markdown",
   "metadata": {},
   "source": [
    "## Exploratory Data Analysis\n",
    "\n",
    "Use this notebook to get familiar with the datasets we have. There is 10 questions we need to answer during the EDA.\n",
    "\n",
    "Create 1 slide with informative visualization for each question. Explore data using SQL and Python but use Tableau for final visualization.\n",
    "\n",
    "Don't limit your EDA to these 10 questions. Let's be creative :)."
   ]
  },
  {
   "cell_type": "code",
   "execution_count": 77,
   "metadata": {},
   "outputs": [],
   "source": [
    "import pandas as pd\n",
    "import numpy as np\n",
    "import seaborn as sns\n",
    "import plotly.graph_objs as go\n",
    "import matplotlib.pyplot as plt\n",
    "from datetime import datetime"
   ]
  },
  {
   "cell_type": "markdown",
   "metadata": {},
   "source": [
    "#### **Task 1**: Test the hypothesis that the delay is from Normal distribution. and that **mean** of the delay is 0. Be careful about the outliers."
   ]
  },
  {
   "cell_type": "code",
   "execution_count": 6,
   "metadata": {
    "scrolled": true
   },
   "outputs": [],
   "source": [
    "f = pd.read_csv('exporate\\delay_month.csv')"
   ]
  },
  {
   "cell_type": "code",
   "execution_count": 10,
   "metadata": {},
   "outputs": [],
   "source": [
    "delay = f.sort_values(['Year','Month'],ignore_index= True)"
   ]
  },
  {
   "cell_type": "code",
   "execution_count": 30,
   "metadata": {},
   "outputs": [
    {
     "data": {
      "text/html": [
       "<div>\n",
       "<style scoped>\n",
       "    .dataframe tbody tr th:only-of-type {\n",
       "        vertical-align: middle;\n",
       "    }\n",
       "\n",
       "    .dataframe tbody tr th {\n",
       "        vertical-align: top;\n",
       "    }\n",
       "\n",
       "    .dataframe thead th {\n",
       "        text-align: right;\n",
       "    }\n",
       "</style>\n",
       "<table border=\"1\" class=\"dataframe\">\n",
       "  <thead>\n",
       "    <tr style=\"text-align: right;\">\n",
       "      <th></th>\n",
       "      <th>Month</th>\n",
       "      <th>avg</th>\n",
       "    </tr>\n",
       "  </thead>\n",
       "  <tbody>\n",
       "    <tr>\n",
       "      <th>0</th>\n",
       "      <td>1</td>\n",
       "      <td>9.827812</td>\n",
       "    </tr>\n",
       "    <tr>\n",
       "      <th>1</th>\n",
       "      <td>2</td>\n",
       "      <td>11.737970</td>\n",
       "    </tr>\n",
       "    <tr>\n",
       "      <th>2</th>\n",
       "      <td>3</td>\n",
       "      <td>8.403554</td>\n",
       "    </tr>\n",
       "    <tr>\n",
       "      <th>3</th>\n",
       "      <td>4</td>\n",
       "      <td>9.356035</td>\n",
       "    </tr>\n",
       "    <tr>\n",
       "      <th>4</th>\n",
       "      <td>5</td>\n",
       "      <td>11.355161</td>\n",
       "    </tr>\n",
       "  </tbody>\n",
       "</table>\n",
       "</div>"
      ],
      "text/plain": [
       "   Month        avg\n",
       "0      1   9.827812\n",
       "1      2  11.737970\n",
       "2      3   8.403554\n",
       "3      4   9.356035\n",
       "4      5  11.355161"
      ]
     },
     "execution_count": 30,
     "metadata": {},
     "output_type": "execute_result"
    }
   ],
   "source": [
    "month = delay.groupby('Month',as_index= False).agg({'avg':'mean'})\n",
    "month.head()"
   ]
  },
  {
   "cell_type": "markdown",
   "metadata": {},
   "source": [
    "#### **Task 2**: Is average/median monthly delay different during the year? If yes, which are months with the biggest delays and what could be the reason?"
   ]
  },
  {
   "cell_type": "code",
   "execution_count": 54,
   "metadata": {},
   "outputs": [
    {
     "data": {
      "text/html": [
       "<div>\n",
       "<style scoped>\n",
       "    .dataframe tbody tr th:only-of-type {\n",
       "        vertical-align: middle;\n",
       "    }\n",
       "\n",
       "    .dataframe tbody tr th {\n",
       "        vertical-align: top;\n",
       "    }\n",
       "\n",
       "    .dataframe thead th {\n",
       "        text-align: right;\n",
       "    }\n",
       "</style>\n",
       "<table border=\"1\" class=\"dataframe\">\n",
       "  <thead>\n",
       "    <tr style=\"text-align: right;\">\n",
       "      <th></th>\n",
       "      <th>date_trunc</th>\n",
       "      <th>Date</th>\n",
       "      <th>Year</th>\n",
       "      <th>Month</th>\n",
       "      <th>avg_delay</th>\n",
       "      <th>sum_delay</th>\n",
       "      <th>Nos_flight</th>\n",
       "    </tr>\n",
       "  </thead>\n",
       "  <tbody>\n",
       "    <tr>\n",
       "      <th>7</th>\n",
       "      <td>2018-08-01 00:00:00+00</td>\n",
       "      <td>2018-08-01</td>\n",
       "      <td>2018</td>\n",
       "      <td>8</td>\n",
       "      <td>45.270275</td>\n",
       "      <td>11696662</td>\n",
       "      <td>258374</td>\n",
       "    </tr>\n",
       "    <tr>\n",
       "      <th>9</th>\n",
       "      <td>2018-07-01 00:00:00+00</td>\n",
       "      <td>2018-07-01</td>\n",
       "      <td>2018</td>\n",
       "      <td>7</td>\n",
       "      <td>43.121224</td>\n",
       "      <td>11317812</td>\n",
       "      <td>262465</td>\n",
       "    </tr>\n",
       "    <tr>\n",
       "      <th>0</th>\n",
       "      <td>2018-06-01 00:00:00+00</td>\n",
       "      <td>2018-06-01</td>\n",
       "      <td>2018</td>\n",
       "      <td>6</td>\n",
       "      <td>42.333918</td>\n",
       "      <td>10836975</td>\n",
       "      <td>255988</td>\n",
       "    </tr>\n",
       "    <tr>\n",
       "      <th>13</th>\n",
       "      <td>2018-01-01 00:00:00+00</td>\n",
       "      <td>2018-01-01</td>\n",
       "      <td>2018</td>\n",
       "      <td>1</td>\n",
       "      <td>40.249546</td>\n",
       "      <td>7950533</td>\n",
       "      <td>197531</td>\n",
       "    </tr>\n",
       "    <tr>\n",
       "      <th>8</th>\n",
       "      <td>2018-05-01 00:00:00+00</td>\n",
       "      <td>2018-05-01</td>\n",
       "      <td>2018</td>\n",
       "      <td>5</td>\n",
       "      <td>40.209572</td>\n",
       "      <td>9258656</td>\n",
       "      <td>230260</td>\n",
       "    </tr>\n",
       "    <tr>\n",
       "      <th>10</th>\n",
       "      <td>2018-09-01 00:00:00+00</td>\n",
       "      <td>2018-09-01</td>\n",
       "      <td>2018</td>\n",
       "      <td>9</td>\n",
       "      <td>39.352757</td>\n",
       "      <td>7099316</td>\n",
       "      <td>180402</td>\n",
       "    </tr>\n",
       "    <tr>\n",
       "      <th>15</th>\n",
       "      <td>2018-02-01 00:00:00+00</td>\n",
       "      <td>2018-02-01</td>\n",
       "      <td>2018</td>\n",
       "      <td>2</td>\n",
       "      <td>38.878303</td>\n",
       "      <td>7326655</td>\n",
       "      <td>188451</td>\n",
       "    </tr>\n",
       "    <tr>\n",
       "      <th>5</th>\n",
       "      <td>2018-11-01 00:00:00+00</td>\n",
       "      <td>2018-11-01</td>\n",
       "      <td>2018</td>\n",
       "      <td>11</td>\n",
       "      <td>37.665112</td>\n",
       "      <td>8173141</td>\n",
       "      <td>216995</td>\n",
       "    </tr>\n",
       "    <tr>\n",
       "      <th>17</th>\n",
       "      <td>2018-04-01 00:00:00+00</td>\n",
       "      <td>2018-04-01</td>\n",
       "      <td>2018</td>\n",
       "      <td>4</td>\n",
       "      <td>36.765109</td>\n",
       "      <td>7574458</td>\n",
       "      <td>206023</td>\n",
       "    </tr>\n",
       "    <tr>\n",
       "      <th>2</th>\n",
       "      <td>2018-12-01 00:00:00+00</td>\n",
       "      <td>2018-12-01</td>\n",
       "      <td>2018</td>\n",
       "      <td>12</td>\n",
       "      <td>36.607714</td>\n",
       "      <td>8011891</td>\n",
       "      <td>218858</td>\n",
       "    </tr>\n",
       "    <tr>\n",
       "      <th>6</th>\n",
       "      <td>2018-10-01 00:00:00+00</td>\n",
       "      <td>2018-10-01</td>\n",
       "      <td>2018</td>\n",
       "      <td>10</td>\n",
       "      <td>35.371611</td>\n",
       "      <td>7116096</td>\n",
       "      <td>201181</td>\n",
       "    </tr>\n",
       "    <tr>\n",
       "      <th>23</th>\n",
       "      <td>2018-03-01 00:00:00+00</td>\n",
       "      <td>2018-03-01</td>\n",
       "      <td>2018</td>\n",
       "      <td>3</td>\n",
       "      <td>33.309560</td>\n",
       "      <td>7099100</td>\n",
       "      <td>213125</td>\n",
       "    </tr>\n",
       "  </tbody>\n",
       "</table>\n",
       "</div>"
      ],
      "text/plain": [
       "                date_trunc        Date  Year  Month  avg_delay  sum_delay  \\\n",
       "7   2018-08-01 00:00:00+00  2018-08-01  2018      8  45.270275   11696662   \n",
       "9   2018-07-01 00:00:00+00  2018-07-01  2018      7  43.121224   11317812   \n",
       "0   2018-06-01 00:00:00+00  2018-06-01  2018      6  42.333918   10836975   \n",
       "13  2018-01-01 00:00:00+00  2018-01-01  2018      1  40.249546    7950533   \n",
       "8   2018-05-01 00:00:00+00  2018-05-01  2018      5  40.209572    9258656   \n",
       "10  2018-09-01 00:00:00+00  2018-09-01  2018      9  39.352757    7099316   \n",
       "15  2018-02-01 00:00:00+00  2018-02-01  2018      2  38.878303    7326655   \n",
       "5   2018-11-01 00:00:00+00  2018-11-01  2018     11  37.665112    8173141   \n",
       "17  2018-04-01 00:00:00+00  2018-04-01  2018      4  36.765109    7574458   \n",
       "2   2018-12-01 00:00:00+00  2018-12-01  2018     12  36.607714    8011891   \n",
       "6   2018-10-01 00:00:00+00  2018-10-01  2018     10  35.371611    7116096   \n",
       "23  2018-03-01 00:00:00+00  2018-03-01  2018      3  33.309560    7099100   \n",
       "\n",
       "    Nos_flight  \n",
       "7       258374  \n",
       "9       262465  \n",
       "0       255988  \n",
       "13      197531  \n",
       "8       230260  \n",
       "10      180402  \n",
       "15      188451  \n",
       "5       216995  \n",
       "17      206023  \n",
       "2       218858  \n",
       "6       201181  \n",
       "23      213125  "
      ]
     },
     "execution_count": 54,
     "metadata": {},
     "output_type": "execute_result"
    }
   ],
   "source": [
    "WOearly[WOearly.Year== 2018].sort_values('avg_delay',ascending=False)"
   ]
  },
  {
   "cell_type": "code",
   "execution_count": 43,
   "metadata": {
    "scrolled": false
   },
   "outputs": [
    {
     "data": {
      "image/png": "[encoded data removed]",
      "text/plain": [
       "<Figure size 1080x720 with 4 Axes>"
      ]
     },
     "metadata": {
      "needs_background": "light"
     },
     "output_type": "display_data"
    }
   ],
   "source": [
    "fig, ((ax1,ax2),(ax3,ax4)) = plt.subplots(2,2,figsize=(15,10))\n",
    "sns.barplot(x='Month',y='avg',hue='Year',data=delay,ax=ax1,).set_title('With early arrival')\n",
    "sns.barplot(x='Month',y='avg',data=month,ax=ax3,color=\"blue\").set_title('With early arrival')\n",
    "sns.barplot(x='Month',y='avg_delay',hue='Year',data=WOearly,ax=ax2).set_title('Without early arrival')\n",
    "sns.barplot(x='Month',y='avg_delay',data=WOearly,ax=ax4,color=\"blue\").set_title('Without early arrival')\n",
    "plt.show;"
   ]
  },
  {
   "cell_type": "code",
   "execution_count": 37,
   "metadata": {},
   "outputs": [],
   "source": [
    "WOearly = pd.read_csv('exporate\\delay_withoutearly.csv')"
   ]
  },
  {
   "cell_type": "code",
   "execution_count": 38,
   "metadata": {},
   "outputs": [
    {
     "data": {
      "text/html": [
       "<div>\n",
       "<style scoped>\n",
       "    .dataframe tbody tr th:only-of-type {\n",
       "        vertical-align: middle;\n",
       "    }\n",
       "\n",
       "    .dataframe tbody tr th {\n",
       "        vertical-align: top;\n",
       "    }\n",
       "\n",
       "    .dataframe thead th {\n",
       "        text-align: right;\n",
       "    }\n",
       "</style>\n",
       "<table border=\"1\" class=\"dataframe\">\n",
       "  <thead>\n",
       "    <tr style=\"text-align: right;\">\n",
       "      <th></th>\n",
       "      <th>date_trunc</th>\n",
       "      <th>Date</th>\n",
       "      <th>Year</th>\n",
       "      <th>Month</th>\n",
       "      <th>avg_delay</th>\n",
       "      <th>sum_delay</th>\n",
       "      <th>Nos_flight</th>\n",
       "    </tr>\n",
       "  </thead>\n",
       "  <tbody>\n",
       "    <tr>\n",
       "      <th>0</th>\n",
       "      <td>2018-06-01 00:00:00+00</td>\n",
       "      <td>2018-06-01</td>\n",
       "      <td>2018</td>\n",
       "      <td>6</td>\n",
       "      <td>42.333918</td>\n",
       "      <td>10836975</td>\n",
       "      <td>255988</td>\n",
       "    </tr>\n",
       "    <tr>\n",
       "      <th>1</th>\n",
       "      <td>2019-11-01 00:00:00+00</td>\n",
       "      <td>2019-11-01</td>\n",
       "      <td>2019</td>\n",
       "      <td>11</td>\n",
       "      <td>35.773384</td>\n",
       "      <td>6769469</td>\n",
       "      <td>189232</td>\n",
       "    </tr>\n",
       "    <tr>\n",
       "      <th>2</th>\n",
       "      <td>2018-12-01 00:00:00+00</td>\n",
       "      <td>2018-12-01</td>\n",
       "      <td>2018</td>\n",
       "      <td>12</td>\n",
       "      <td>36.607714</td>\n",
       "      <td>8011891</td>\n",
       "      <td>218858</td>\n",
       "    </tr>\n",
       "    <tr>\n",
       "      <th>3</th>\n",
       "      <td>2019-03-01 00:00:00+00</td>\n",
       "      <td>2019-03-01</td>\n",
       "      <td>2019</td>\n",
       "      <td>3</td>\n",
       "      <td>37.913607</td>\n",
       "      <td>8455341</td>\n",
       "      <td>223016</td>\n",
       "    </tr>\n",
       "    <tr>\n",
       "      <th>4</th>\n",
       "      <td>2019-06-01 00:00:00+00</td>\n",
       "      <td>2019-06-01</td>\n",
       "      <td>2019</td>\n",
       "      <td>6</td>\n",
       "      <td>46.132093</td>\n",
       "      <td>12776237</td>\n",
       "      <td>276949</td>\n",
       "    </tr>\n",
       "  </tbody>\n",
       "</table>\n",
       "</div>"
      ],
      "text/plain": [
       "               date_trunc        Date  Year  Month  avg_delay  sum_delay  \\\n",
       "0  2018-06-01 00:00:00+00  2018-06-01  2018      6  42.333918   10836975   \n",
       "1  2019-11-01 00:00:00+00  2019-11-01  2019     11  35.773384    6769469   \n",
       "2  2018-12-01 00:00:00+00  2018-12-01  2018     12  36.607714    8011891   \n",
       "3  2019-03-01 00:00:00+00  2019-03-01  2019      3  37.913607    8455341   \n",
       "4  2019-06-01 00:00:00+00  2019-06-01  2019      6  46.132093   12776237   \n",
       "\n",
       "   Nos_flight  \n",
       "0      255988  \n",
       "1      189232  \n",
       "2      218858  \n",
       "3      223016  \n",
       "4      276949  "
      ]
     },
     "execution_count": 38,
     "metadata": {},
     "output_type": "execute_result"
    }
   ],
   "source": [
    "WOearly.head()"
   ]
  },
  {
   "cell_type": "code",
   "execution_count": 46,
   "metadata": {},
   "outputs": [
    {
     "data": {
      "image/png": "[encoded data removed]",
      "text/plain": [
       "<Figure size 1080x720 with 1 Axes>"
      ]
     },
     "metadata": {
      "needs_background": "light"
     },
     "output_type": "display_data"
    }
   ],
   "source": [
    "fig, (ax1) = plt.subplots(1,1,figsize=(15,10))\n",
    "sns.barplot(x='Month',y='Nos_flight',hue='Year',data=WOearly,ax=ax1).set_title('Nos of flight per month')\n",
    "plt.show;"
   ]
  },
  {
   "cell_type": "markdown",
   "metadata": {},
   "source": [
    "#### **Task 3**: Does the weather affect the delay? \n",
    "Use the API to pull the weather information for flights. There is no need to get weather for ALL flights. We can choose the right representative sample. Let's focus on four weather types:\n",
    "- sunny\n",
    "- cloudy\n",
    "- rainy\n",
    "- snow.\n",
    "Test the hypothesis that these 4 delays are from the same distribution. If they are not, which ones are significantly different?"
   ]
  },
  {
   "cell_type": "code",
   "execution_count": 55,
   "metadata": {},
   "outputs": [],
   "source": [
    "f = pd.read_csv('exporate\\weather.csv')"
   ]
  },
  {
   "cell_type": "code",
   "execution_count": 101,
   "metadata": {},
   "outputs": [
    {
     "data": {
      "text/html": [
       "<div>\n",
       "<style scoped>\n",
       "    .dataframe tbody tr th:only-of-type {\n",
       "        vertical-align: middle;\n",
       "    }\n",
       "\n",
       "    .dataframe tbody tr th {\n",
       "        vertical-align: top;\n",
       "    }\n",
       "\n",
       "    .dataframe thead th {\n",
       "        text-align: right;\n",
       "    }\n",
       "</style>\n",
       "<table border=\"1\" class=\"dataframe\">\n",
       "  <thead>\n",
       "    <tr style=\"text-align: right;\">\n",
       "      <th></th>\n",
       "      <th>fl_date</th>\n",
       "      <th>avg</th>\n",
       "      <th>sum</th>\n",
       "      <th>count</th>\n",
       "      <th>origin_city_name</th>\n",
       "      <th>dest_city_name</th>\n",
       "      <th>date_trunc</th>\n",
       "    </tr>\n",
       "  </thead>\n",
       "  <tbody>\n",
       "    <tr>\n",
       "      <th>0</th>\n",
       "      <td>2019-11-06</td>\n",
       "      <td>1.0</td>\n",
       "      <td>1</td>\n",
       "      <td>1</td>\n",
       "      <td>Austin, TX</td>\n",
       "      <td>Newark, NJ</td>\n",
       "      <td>2019-11-01</td>\n",
       "    </tr>\n",
       "    <tr>\n",
       "      <th>1</th>\n",
       "      <td>2019-10-12</td>\n",
       "      <td>1.0</td>\n",
       "      <td>1</td>\n",
       "      <td>1</td>\n",
       "      <td>Chicago, IL</td>\n",
       "      <td>West Palm Beach/Palm Beach, FL</td>\n",
       "      <td>2019-10-01</td>\n",
       "    </tr>\n",
       "    <tr>\n",
       "      <th>2</th>\n",
       "      <td>2019-11-24</td>\n",
       "      <td>1.0</td>\n",
       "      <td>1</td>\n",
       "      <td>1</td>\n",
       "      <td>Albany, NY</td>\n",
       "      <td>Tampa, FL</td>\n",
       "      <td>2019-11-01</td>\n",
       "    </tr>\n",
       "    <tr>\n",
       "      <th>3</th>\n",
       "      <td>2019-10-09</td>\n",
       "      <td>1.0</td>\n",
       "      <td>1</td>\n",
       "      <td>1</td>\n",
       "      <td>Charlotte Amalie, VI</td>\n",
       "      <td>Atlanta, GA</td>\n",
       "      <td>2019-10-01</td>\n",
       "    </tr>\n",
       "    <tr>\n",
       "      <th>4</th>\n",
       "      <td>2019-10-12</td>\n",
       "      <td>1.0</td>\n",
       "      <td>1</td>\n",
       "      <td>1</td>\n",
       "      <td>Charlotte Amalie, VI</td>\n",
       "      <td>Newark, NJ</td>\n",
       "      <td>2019-10-01</td>\n",
       "    </tr>\n",
       "  </tbody>\n",
       "</table>\n",
       "</div>"
      ],
      "text/plain": [
       "      fl_date  avg  sum  count      origin_city_name  \\\n",
       "0  2019-11-06  1.0    1      1            Austin, TX   \n",
       "1  2019-10-12  1.0    1      1           Chicago, IL   \n",
       "2  2019-11-24  1.0    1      1            Albany, NY   \n",
       "3  2019-10-09  1.0    1      1  Charlotte Amalie, VI   \n",
       "4  2019-10-12  1.0    1      1  Charlotte Amalie, VI   \n",
       "\n",
       "                   dest_city_name date_trunc  \n",
       "0                      Newark, NJ 2019-11-01  \n",
       "1  West Palm Beach/Palm Beach, FL 2019-10-01  \n",
       "2                       Tampa, FL 2019-11-01  \n",
       "3                     Atlanta, GA 2019-10-01  \n",
       "4                      Newark, NJ 2019-10-01  "
      ]
     },
     "execution_count": 101,
     "metadata": {},
     "output_type": "execute_result"
    }
   ],
   "source": [
    "f=f.drop(columns='to_date')\n",
    "f.head()"
   ]
  },
  {
   "cell_type": "code",
   "execution_count": 97,
   "metadata": {},
   "outputs": [],
   "source": [
    "f.date_trunc=f.date_trunc.str.slice(0,10)\n",
    "f.date_trunc=pd.to_datetime(f['date_trunc'])"
   ]
  },
  {
   "cell_type": "code",
   "execution_count": 102,
   "metadata": {},
   "outputs": [
    {
     "data": {
      "text/html": [
       "<div>\n",
       "<style scoped>\n",
       "    .dataframe tbody tr th:only-of-type {\n",
       "        vertical-align: middle;\n",
       "    }\n",
       "\n",
       "    .dataframe tbody tr th {\n",
       "        vertical-align: top;\n",
       "    }\n",
       "\n",
       "    .dataframe thead th {\n",
       "        text-align: right;\n",
       "    }\n",
       "</style>\n",
       "<table border=\"1\" class=\"dataframe\">\n",
       "  <thead>\n",
       "    <tr style=\"text-align: right;\">\n",
       "      <th></th>\n",
       "      <th>fl_date</th>\n",
       "      <th>avg</th>\n",
       "      <th>sum</th>\n",
       "      <th>count</th>\n",
       "      <th>origin_city_name</th>\n",
       "      <th>dest_city_name</th>\n",
       "      <th>date_trunc</th>\n",
       "    </tr>\n",
       "  </thead>\n",
       "  <tbody>\n",
       "    <tr>\n",
       "      <th>0</th>\n",
       "      <td>2019-11-06</td>\n",
       "      <td>1.0</td>\n",
       "      <td>1</td>\n",
       "      <td>1</td>\n",
       "      <td>Austin, TX</td>\n",
       "      <td>Newark, NJ</td>\n",
       "      <td>2019-11-01</td>\n",
       "    </tr>\n",
       "    <tr>\n",
       "      <th>1</th>\n",
       "      <td>2019-10-12</td>\n",
       "      <td>1.0</td>\n",
       "      <td>1</td>\n",
       "      <td>1</td>\n",
       "      <td>Chicago, IL</td>\n",
       "      <td>West Palm Beach/Palm Beach, FL</td>\n",
       "      <td>2019-10-01</td>\n",
       "    </tr>\n",
       "    <tr>\n",
       "      <th>2</th>\n",
       "      <td>2019-11-24</td>\n",
       "      <td>1.0</td>\n",
       "      <td>1</td>\n",
       "      <td>1</td>\n",
       "      <td>Albany, NY</td>\n",
       "      <td>Tampa, FL</td>\n",
       "      <td>2019-11-01</td>\n",
       "    </tr>\n",
       "    <tr>\n",
       "      <th>3</th>\n",
       "      <td>2019-10-09</td>\n",
       "      <td>1.0</td>\n",
       "      <td>1</td>\n",
       "      <td>1</td>\n",
       "      <td>Charlotte Amalie, VI</td>\n",
       "      <td>Atlanta, GA</td>\n",
       "      <td>2019-10-01</td>\n",
       "    </tr>\n",
       "    <tr>\n",
       "      <th>4</th>\n",
       "      <td>2019-10-12</td>\n",
       "      <td>1.0</td>\n",
       "      <td>1</td>\n",
       "      <td>1</td>\n",
       "      <td>Charlotte Amalie, VI</td>\n",
       "      <td>Newark, NJ</td>\n",
       "      <td>2019-10-01</td>\n",
       "    </tr>\n",
       "  </tbody>\n",
       "</table>\n",
       "</div>"
      ],
      "text/plain": [
       "      fl_date  avg  sum  count      origin_city_name  \\\n",
       "0  2019-11-06  1.0    1      1            Austin, TX   \n",
       "1  2019-10-12  1.0    1      1           Chicago, IL   \n",
       "2  2019-11-24  1.0    1      1            Albany, NY   \n",
       "3  2019-10-09  1.0    1      1  Charlotte Amalie, VI   \n",
       "4  2019-10-12  1.0    1      1  Charlotte Amalie, VI   \n",
       "\n",
       "                   dest_city_name date_trunc  \n",
       "0                      Newark, NJ 2019-11-01  \n",
       "1  West Palm Beach/Palm Beach, FL 2019-10-01  \n",
       "2                       Tampa, FL 2019-11-01  \n",
       "3                     Atlanta, GA 2019-10-01  \n",
       "4                      Newark, NJ 2019-10-01  "
      ]
     },
     "execution_count": 102,
     "metadata": {},
     "output_type": "execute_result"
    }
   ],
   "source": [
    "f.head()"
   ]
  },
  {
   "cell_type": "code",
   "execution_count": 106,
   "metadata": {},
   "outputs": [
    {
     "data": {
      "text/html": [
       "<div>\n",
       "<style scoped>\n",
       "    .dataframe tbody tr th:only-of-type {\n",
       "        vertical-align: middle;\n",
       "    }\n",
       "\n",
       "    .dataframe tbody tr th {\n",
       "        vertical-align: top;\n",
       "    }\n",
       "\n",
       "    .dataframe thead th {\n",
       "        text-align: right;\n",
       "    }\n",
       "</style>\n",
       "<table border=\"1\" class=\"dataframe\">\n",
       "  <thead>\n",
       "    <tr style=\"text-align: right;\">\n",
       "      <th></th>\n",
       "      <th>fl_date</th>\n",
       "      <th>avg</th>\n",
       "      <th>sum</th>\n",
       "      <th>count</th>\n",
       "      <th>origin_city_name</th>\n",
       "      <th>dest_city_name</th>\n",
       "      <th>date_trunc</th>\n",
       "    </tr>\n",
       "  </thead>\n",
       "  <tbody>\n",
       "    <tr>\n",
       "      <th>0</th>\n",
       "      <td>2019-11-06</td>\n",
       "      <td>1.0</td>\n",
       "      <td>1</td>\n",
       "      <td>1</td>\n",
       "      <td>Austin, TX</td>\n",
       "      <td>Newark, NJ</td>\n",
       "      <td>2019-11-01</td>\n",
       "    </tr>\n",
       "    <tr>\n",
       "      <th>2</th>\n",
       "      <td>2019-11-24</td>\n",
       "      <td>1.0</td>\n",
       "      <td>1</td>\n",
       "      <td>1</td>\n",
       "      <td>Albany, NY</td>\n",
       "      <td>Tampa, FL</td>\n",
       "      <td>2019-11-01</td>\n",
       "    </tr>\n",
       "    <tr>\n",
       "      <th>6</th>\n",
       "      <td>2019-11-05</td>\n",
       "      <td>1.0</td>\n",
       "      <td>1</td>\n",
       "      <td>1</td>\n",
       "      <td>Austin, TX</td>\n",
       "      <td>New Orleans, LA</td>\n",
       "      <td>2019-11-01</td>\n",
       "    </tr>\n",
       "    <tr>\n",
       "      <th>9</th>\n",
       "      <td>2019-11-04</td>\n",
       "      <td>1.0</td>\n",
       "      <td>1</td>\n",
       "      <td>1</td>\n",
       "      <td>Austin, TX</td>\n",
       "      <td>Salt Lake City, UT</td>\n",
       "      <td>2019-11-01</td>\n",
       "    </tr>\n",
       "    <tr>\n",
       "      <th>13</th>\n",
       "      <td>2019-11-04</td>\n",
       "      <td>1.0</td>\n",
       "      <td>1</td>\n",
       "      <td>1</td>\n",
       "      <td>Brownsville, TX</td>\n",
       "      <td>Houston, TX</td>\n",
       "      <td>2019-11-01</td>\n",
       "    </tr>\n",
       "  </tbody>\n",
       "</table>\n",
       "</div>"
      ],
      "text/plain": [
       "       fl_date  avg  sum  count origin_city_name      dest_city_name  \\\n",
       "0   2019-11-06  1.0    1      1       Austin, TX          Newark, NJ   \n",
       "2   2019-11-24  1.0    1      1       Albany, NY           Tampa, FL   \n",
       "6   2019-11-05  1.0    1      1       Austin, TX     New Orleans, LA   \n",
       "9   2019-11-04  1.0    1      1       Austin, TX  Salt Lake City, UT   \n",
       "13  2019-11-04  1.0    1      1  Brownsville, TX         Houston, TX   \n",
       "\n",
       "   date_trunc  \n",
       "0  2019-11-01  \n",
       "2  2019-11-01  \n",
       "6  2019-11-01  \n",
       "9  2019-11-01  \n",
       "13 2019-11-01  "
      ]
     },
     "execution_count": 106,
     "metadata": {},
     "output_type": "execute_result"
    }
   ],
   "source": [
    "f[f.date_trunc == '2019-11-01'].head()"
   ]
  },
  {
   "cell_type": "markdown",
   "metadata": {},
   "source": [
    "#### **Task 4**: How taxi times changing during the day? Does higher traffic lead to bigger taxi times?"
   ]
  },
  {
   "cell_type": "code",
   "execution_count": 96,
   "metadata": {
    "scrolled": true
   },
   "outputs": [
    {
     "data": {
      "text/plain": [
       "0        2019-11-01\n",
       "1        2019-10-01\n",
       "2        2019-11-01\n",
       "3        2019-10-01\n",
       "4        2019-10-01\n",
       "            ...    \n",
       "112060   2019-08-01\n",
       "112061   2019-08-01\n",
       "112062   2019-06-01\n",
       "112063   2019-06-01\n",
       "112064   2019-07-01\n",
       "Name: date_trunc, Length: 112065, dtype: datetime64[ns]"
      ]
     },
     "execution_count": 96,
     "metadata": {},
     "output_type": "execute_result"
    }
   ],
   "source": []
  },
  {
   "cell_type": "code",
   "execution_count": 81,
   "metadata": {},
   "outputs": [
    {
     "data": {
      "text/plain": [
       "0        2019-01-01 00:11:00\n",
       "1        2019-01-01 00:10:00\n",
       "2        2019-01-01 00:11:00\n",
       "3        2019-01-01 00:10:00\n",
       "4        2019-01-01 00:10:00\n",
       "                 ...        \n",
       "112060   2019-01-01 00:08:00\n",
       "112061   2019-01-01 00:08:00\n",
       "112062   2019-01-01 00:06:00\n",
       "112063   2019-01-01 00:06:00\n",
       "112064   2019-01-01 00:07:00\n",
       "Name: date_trunc, Length: 112065, dtype: datetime64[ns]"
      ]
     },
     "execution_count": 81,
     "metadata": {},
     "output_type": "execute_result"
    }
   ],
   "source": [
    "# f.date_trunc.apply(lambda x:datetime.strptime(x, \"%Y-%M-%d\"))"
   ]
  },
  {
   "cell_type": "code",
   "execution_count": null,
   "metadata": {},
   "outputs": [],
   "source": [
    "a.s"
   ]
  },
  {
   "cell_type": "markdown",
   "metadata": {},
   "source": [
    "#### **Task 5**: What is the average percentage of delays that is already created before departure? (aka are arrival delays caused by departure delays?) Are airlines able to lower the delay during the flights?"
   ]
  },
  {
   "cell_type": "code",
   "execution_count": null,
   "metadata": {},
   "outputs": [],
   "source": []
  },
  {
   "cell_type": "code",
   "execution_count": null,
   "metadata": {},
   "outputs": [],
   "source": []
  },
  {
   "cell_type": "markdown",
   "metadata": {},
   "source": [
    "#### **Task 6**: How many states cover 50% of US air traffic? "
   ]
  },
  {
   "cell_type": "code",
   "execution_count": null,
   "metadata": {},
   "outputs": [],
   "source": []
  },
  {
   "cell_type": "code",
   "execution_count": null,
   "metadata": {},
   "outputs": [],
   "source": []
  },
  {
   "cell_type": "markdown",
   "metadata": {},
   "source": [
    "#### **Task 7**: Test the hypothesis whether planes fly faster when there is the departure delay? "
   ]
  },
  {
   "cell_type": "code",
   "execution_count": null,
   "metadata": {},
   "outputs": [],
   "source": []
  },
  {
   "cell_type": "code",
   "execution_count": null,
   "metadata": {},
   "outputs": [],
   "source": []
  },
  {
   "cell_type": "markdown",
   "metadata": {},
   "source": [
    "#### **Task 8**: When (which hour) do most 'LONG', 'SHORT', 'MEDIUM' haul flights take off?"
   ]
  },
  {
   "cell_type": "code",
   "execution_count": null,
   "metadata": {},
   "outputs": [],
   "source": []
  },
  {
   "cell_type": "code",
   "execution_count": null,
   "metadata": {},
   "outputs": [],
   "source": []
  },
  {
   "cell_type": "markdown",
   "metadata": {},
   "source": [
    "#### **Task 9**: Find the top 10 the bussiest airports. Does the biggest number of flights mean that the biggest number of passengers went through the particular airport? How much traffic do these 10 airports cover?"
   ]
  },
  {
   "cell_type": "code",
   "execution_count": null,
   "metadata": {},
   "outputs": [],
   "source": []
  },
  {
   "cell_type": "code",
   "execution_count": null,
   "metadata": {},
   "outputs": [],
   "source": []
  },
  {
   "cell_type": "markdown",
   "metadata": {},
   "source": [
    "#### **Task 10**: Do bigger delays lead to bigger fuel comsumption per passenger? \n",
    "We need to do four things to answer this as accurate as possible:\n",
    "- Find out average monthly delay per air carrier (monthly delay is sum of all delays in 1 month)\n",
    "- Find out distance covered monthly by different air carriers\n",
    "- Find out number of passengers that were carried by different air carriers\n",
    "- Find out total fuel comsumption per air carrier.\n",
    "\n",
    "Use this information to get the average fuel comsumption per passenger per km. Is this higher for the airlines with bigger average delays?"
   ]
  },
  {
   "cell_type": "code",
   "execution_count": null,
   "metadata": {},
   "outputs": [],
   "source": []
  },
  {
   "cell_type": "code",
   "execution_count": null,
   "metadata": {},
   "outputs": [],
   "source": []
  }
 ],
 "metadata": {
  "kernelspec": {
   "display_name": "Python 3",
   "language": "python",
   "name": "python3"
  },
  "language_info": {
   "codemirror_mode": {
    "name": "ipython",
    "version": 3
   },
   "file_extension": ".py",
   "mimetype": "text/x-python",
   "name": "python",
   "nbconvert_exporter": "python",
   "pygments_lexer": "ipython3",
   "version": "3.7.6"
  },
  "toc": {
   "base_numbering": 1,
   "nav_menu": {},
   "number_sections": true,
   "sideBar": true,
   "skip_h1_title": false,
   "title_cell": "Table of Contents",
   "title_sidebar": "Contents",
   "toc_cell": false,
   "toc_position": {},
   "toc_section_display": true,
   "toc_window_display": false
  },
  "varInspector": {
   "cols": {
    "lenName": 16,
    "lenType": 16,
    "lenVar": 40
   },
   "kernels_config": {
    "python": {
     "delete_cmd_postfix": "",
     "delete_cmd_prefix": "del ",
     "library": "var_list.py",
     "varRefreshCmd": "print(var_dic_list())"
    },
    "r": {
     "delete_cmd_postfix": ") ",
     "delete_cmd_prefix": "rm(",
     "library": "var_list.r",
     "varRefreshCmd": "cat(var_dic_list()) "
    }
   },
   "types_to_exclude": [
    "module",
    "function",
    "builtin_function_or_method",
    "instance",
    "_Feature"
   ],
   "window_display": false
  }
 },
 "nbformat": 4,
 "nbformat_minor": 4
}
